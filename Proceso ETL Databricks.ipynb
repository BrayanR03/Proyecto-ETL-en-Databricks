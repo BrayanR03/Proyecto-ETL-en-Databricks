{
 "cells": [
  {
   "cell_type": "markdown",
   "metadata": {
    "application/vnd.databricks.v1+cell": {
     "cellMetadata": {},
     "inputWidgets": {},
     "nuid": "c8f0dd3f-1e6a-49aa-a5fa-ac1957950690",
     "showTitle": false,
     "tableResultSettingsMap": {},
     "title": ""
    }
   },
   "source": [
    "# PROYECTO ETL EN DATABRICKS - COSMETSAC\n",
    "Autor: Brayan R. Neciosup Bolaños\n",
    "\n",
    "Importante:\n",
    "Como no se tiene desplegada una BD relacional en la nube, usaremos Unity Catalog \n",
    "y todas sus características para simular una BD relacional en Databricks. \n",
    "\n",
    "El Modelo Entidad Relación esta elaborado en MSSM, puedes visualizarlo en la imagen denominada: ModeloER-SQL.png\n",
    "O también puedes revisar el script: ScriptBDCosmetSAC.sql"
   ]
  },
  {
   "cell_type": "markdown",
   "metadata": {
    "application/vnd.databricks.v1+cell": {
     "cellMetadata": {},
     "inputWidgets": {},
     "nuid": "9f1ec660-fe12-4c41-9625-40b19d9dc2c1",
     "showTitle": false,
     "tableResultSettingsMap": {},
     "title": ""
    }
   },
   "source": [
    "### LIBRERÍAS UTILIZADAS"
   ]
  },
  {
   "cell_type": "code",
   "execution_count": 0,
   "metadata": {
    "application/vnd.databricks.v1+cell": {
     "cellMetadata": {
      "byteLimit": 2048000,
      "rowLimit": 10000
     },
     "inputWidgets": {},
     "nuid": "247ceb94-795f-4518-9bfa-f43c9619f1ed",
     "showTitle": false,
     "tableResultSettingsMap": {},
     "title": ""
    }
   },
   "outputs": [],
   "source": [
    "# Librerias a utilizar\n",
    "from pyspark.sql import SparkSession # Puerta de acceso a todas las funcionalidades de databricks\n",
    "from pyspark.sql.functions import * # Funciones SQL\n"
   ]
  },
  {
   "cell_type": "markdown",
   "metadata": {
    "application/vnd.databricks.v1+cell": {
     "cellMetadata": {},
     "inputWidgets": {},
     "nuid": "732d1566-7465-4826-a593-dd6d737c9759",
     "showTitle": false,
     "tableResultSettingsMap": {},
     "title": ""
    }
   },
   "source": [
    "### FUNCIONES UTILIZADAS PARA EL POBLADO DE LA INFORMACIÓN EN LAS TABLAS DE UNITY CATALOG"
   ]
  },
  {
   "cell_type": "markdown",
   "metadata": {
    "application/vnd.databricks.v1+cell": {
     "cellMetadata": {},
     "inputWidgets": {},
     "nuid": "9b6b4d83-7c38-4d2b-9a79-706e30251330",
     "showTitle": false,
     "tableResultSettingsMap": {},
     "title": ""
    }
   },
   "source": [
    "### PROCESO ETL (EXTRAER - TRANSFORMAR Y CARGAR)"
   ]
  },
  {
   "cell_type": "code",
   "execution_count": 0,
   "metadata": {
    "application/vnd.databricks.v1+cell": {
     "cellMetadata": {
      "byteLimit": 2048000,
      "rowLimit": 10000
     },
     "inputWidgets": {},
     "nuid": "5cfe0121-4a9f-4bac-b680-3d43269d89fc",
     "showTitle": false,
     "tableResultSettingsMap": {},
     "title": ""
    }
   },
   "outputs": [],
   "source": [
    "# Archivo CLIENTES-EMPRESA-COSMETSAC.xlsx cargada previamente a Unity Catalog en formato delta table(clientes_empresa_cosmetsac)\n",
    "\n",
    "#### EXTRAER\n",
    "clientes_cosmetsac = spark.sql(\"SELECT * FROM workspace.exercises.clientes_empresa_cosmetsac\")\n",
    "# clientes_cosmetsac.show() # Leemos las 5 primeras filas de la tabla\n",
    "\n",
    "#### Transformar\n",
    "#-- Limpiar la columna CLIENTE de guiones que existen\n",
    "clientes_cosmetsac = clientes_cosmetsac.withColumn(\n",
    "    \"CLIENTE\",\n",
    "    regexp_replace(col(\"CLIENTE\"),r'-',' ')\n",
    ")\n",
    "clientes_cosmetsac.show()\n"
   ]
  },
  {
   "cell_type": "code",
   "execution_count": 0,
   "metadata": {
    "application/vnd.databricks.v1+cell": {
     "cellMetadata": {},
     "inputWidgets": {},
     "nuid": "5bb15a33-a8aa-4cb0-9e35-42fa703978d1",
     "showTitle": false,
     "tableResultSettingsMap": {},
     "title": ""
    }
   },
   "outputs": [],
   "source": []
  }
 ],
 "metadata": {
  "application/vnd.databricks.v1+notebook": {
   "computePreferences": null,
   "dashboards": [],
   "environmentMetadata": {
    "base_environment": "",
    "environment_version": "2"
   },
   "inputWidgetPreferences": null,
   "language": "python",
   "notebookMetadata": {
    "pythonIndentUnit": 4
   },
   "notebookName": "Proceso ETL Databricks",
   "widgets": {}
  },
  "language_info": {
   "name": "python"
  }
 },
 "nbformat": 4,
 "nbformat_minor": 0
}

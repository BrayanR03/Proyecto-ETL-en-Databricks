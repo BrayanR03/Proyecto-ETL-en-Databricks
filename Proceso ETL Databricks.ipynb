{
 "cells": [
  {
   "cell_type": "markdown",
   "metadata": {
    "application/vnd.databricks.v1+cell": {
     "cellMetadata": {},
     "inputWidgets": {},
     "nuid": "c8f0dd3f-1e6a-49aa-a5fa-ac1957950690",
     "showTitle": false,
     "tableResultSettingsMap": {},
     "title": ""
    }
   },
   "source": [
    "# PROYECTO ETL EN DATABRICKS - COSMETSAC\n",
    "Autor: Brayan R. Neciosup Bolaños\n",
    "\n",
    "Importante:\n",
    "Como no se tiene desplegada una BD relacional en la nube, usaremos Unity Catalog \n",
    "y todas sus características para simular una BD relacional en Databricks. \n",
    "\n",
    "El Modelo Entidad Relación esta elaborado en MSSM, puedes visualizarlo en la imagen denominada: ModeloER-SQL.png\n",
    "O también puedes revisar el script: ScriptBDCosmetSAC.sql"
   ]
  },
  {
   "cell_type": "markdown",
   "metadata": {
    "application/vnd.databricks.v1+cell": {
     "cellMetadata": {},
     "inputWidgets": {},
     "nuid": "9f1ec660-fe12-4c41-9625-40b19d9dc2c1",
     "showTitle": false,
     "tableResultSettingsMap": {},
     "title": ""
    }
   },
   "source": [
    "### LIBRERÍAS UTILIZADAS"
   ]
  },
  {
   "cell_type": "code",
   "execution_count": 0,
   "metadata": {
    "application/vnd.databricks.v1+cell": {
     "cellMetadata": {
      "byteLimit": 2048000,
      "rowLimit": 10000
     },
     "inputWidgets": {},
     "nuid": "247ceb94-795f-4518-9bfa-f43c9619f1ed",
     "showTitle": false,
     "tableResultSettingsMap": {},
     "title": ""
    }
   },
   "outputs": [],
   "source": [
    "# Librerias a utilizar\n",
    "from pyspark.sql import SparkSession # Puerta de acceso a todas las funcionalidades de apache spark\n",
    "from pyspark.sql.functions import * # Funciones SQL\n",
    "from pyspark.sql.types import * # Funciones de tipos de datos\n"
   ]
  },
  {
   "cell_type": "markdown",
   "metadata": {
    "application/vnd.databricks.v1+cell": {
     "cellMetadata": {},
     "inputWidgets": {},
     "nuid": "732d1566-7465-4826-a593-dd6d737c9759",
     "showTitle": false,
     "tableResultSettingsMap": {},
     "title": ""
    }
   },
   "source": [
    "### FUNCIONES UTILIZADAS PARA EL POBLADO DE LA INFORMACIÓN EN LAS TABLAS DE UNITY CATALOG"
   ]
  },
  {
   "cell_type": "markdown",
   "metadata": {
    "application/vnd.databricks.v1+cell": {
     "cellMetadata": {},
     "inputWidgets": {},
     "nuid": "9b6b4d83-7c38-4d2b-9a79-706e30251330",
     "showTitle": false,
     "tableResultSettingsMap": {},
     "title": ""
    }
   },
   "source": [
    "### PROCESO ETL (EXTRAER - TRANSFORMAR Y CARGAR)"
   ]
  },
  {
   "cell_type": "code",
   "execution_count": 0,
   "metadata": {
    "application/vnd.databricks.v1+cell": {
     "cellMetadata": {
      "byteLimit": 2048000,
      "rowLimit": 10000
     },
     "inputWidgets": {},
     "nuid": "5cfe0121-4a9f-4bac-b680-3d43269d89fc",
     "showTitle": false,
     "tableResultSettingsMap": {},
     "title": ""
    }
   },
   "outputs": [],
   "source": [
    "# Archivo CLIENTES-EMPRESA-COSMETSAC.xlsx cargada previamente a Unity Catalog en formato delta table(clientes_empresa_cosmetsac)\n",
    "\n",
    "#### EXTRAER\n",
    "clientes_cosmetsac = spark.sql(\"SELECT * FROM workspace.exercises.clientes_empresa_cosmetsac\")\n",
    "# clientes_cosmetsac.show() # Leemos las 5 primeras filas de la tabla\n",
    "\n",
    "#### Transformar\n",
    "#-- Limpiar la columna CLIENTE de guiones que existen\n",
    "clientes_cosmetsac = clientes_cosmetsac.withColumns({\n",
    "    \"CLIENTE\": regexp_replace(col(\"CLIENTE\"),r'-',' '),\n",
    "    \"TELEFONO\": cast(StringType(),col(\"TELEFONO\"))\n",
    "})\n",
    "clientes_cosmetsac = clientes_cosmetsac.withColumns({\n",
    "    \"CLIENTE\":upper(col(\"CLIENTE\")),\n",
    "    \"TELEFONO\":cast(IntegerType(),regexp_replace(col(\"TELEFONO\"),r'^51',''))\n",
    "})\n",
    "clientes_cosmetsac = clientes_cosmetsac.withColumns({\n",
    "    \"Primer Nombre Cliente\":split(col(\"CLIENTE\"),\" \").getItem(0), # .split() Permite separar la información\n",
    "    \"Segundo Nombre Cliente\":split(col(\"CLIENTE\"),\" \").getItem(1),# basandose en un delimitador, para poder convertirlo a un array\n",
    "    \"Primer Apellido Cliente\":split(col(\"CLIENTE\"),\" \").getItem(2), # mismo array, al cu+al accedemos a cada elemtno respectivamente\n",
    "    \"Segundo Apellido Cliente\":split(col(\"CLIENTE\"),\" \").getItem(3) # con .getItem(IndiceElemento)\n",
    "})\n",
    "\n",
    "clientes_cosmetsac = clientes_cosmetsac.withColumns({\n",
    "    \"Apellidos\":concat_ws(', ',col(\"Primer Apellido Cliente\"),col(\"Segundo Apellido Cliente\")),\n",
    "    \"Nombres\":concat_ws(', ',col(\"Primer Nombre Cliente\"),col(\"Segundo Nombre Cliente\"))\n",
    "})\n",
    "\n",
    "clientes_cosmetsac = clientes_cosmetsac.select(\n",
    "    col(\"Apellidos\"),col(\"Nombres\"),col(\"DNI\"),col(\"CORREO ELECTRONICO\"),col(\"TELEFONO\")\n",
    ")\n",
    "\n",
    "clientes_cosmetsac.show()\n",
    "#### CARGAR\n",
    "# FUNCIÓN PARA CONVERTIR ESTE DATAFRAME A UN DELTA TABLE EN UNITY CATALOG\n"
   ]
  },
  {
   "cell_type": "code",
   "execution_count": 0,
   "metadata": {
    "application/vnd.databricks.v1+cell": {
     "cellMetadata": {
      "byteLimit": 2048000,
      "rowLimit": 10000
     },
     "inputWidgets": {},
     "nuid": "5bb15a33-a8aa-4cb0-9e35-42fa703978d1",
     "showTitle": false,
     "tableResultSettingsMap": {},
     "title": ""
    }
   },
   "outputs": [],
   "source": [
    "# Archivo PRODUCTOS-EMPRESA-COSMETSAC.xlsx cargada previamente a Unity Catalog en formato delta table(productos_empresa_cosmetsac)\n",
    "\n",
    "#### EXTRAER\n",
    "\n",
    "productos_cosmetsac = spark.sql(\"SELECT * FROM workspace.exercises.productos_empresa_cosmetsac\")\n",
    "# productos_cosmetsac.show() \n",
    "\n",
    "#### TRANSFORMAR\n",
    "\n",
    "productos_cosmetsac = productos_cosmetsac.select(\n",
    "    col(\"Producto\"),col(\"Precio regular (S/)\"),col(\"Stock Actualizado\"),\n",
    "    col(\"Marca\"),col(\"Categoría\")\n",
    ")\n",
    "productos_cosmetsac = productos_cosmetsac.withColumnsRenamed({\n",
    "    \"Precio regular (S/)\":\"Precio Compra\",\n",
    "    \"Stock Actualizado\":\"Stock\"\n",
    "})\n",
    "\n",
    "# EXTRAEMOS LAS MARCAS\n",
    "marcas_unicas = productos_cosmetsac.select(col(\"Marca\")).dropDuplicates() # Eliminamos duplicados\n",
    "diccionario_marcas = {\n",
    "    \"Marca ID\":[i for i in range(1,marcas_unicas.count()+1)],\n",
    "    \"Marca\":[i[0] for i in marcas_unicas.select(col(\"Marca\")).collect()]\n",
    "}\n",
    "df_marcas = spark.createDataFrame(list(zip(*diccionario_marcas.values())),[\"Marca ID\",\"Marca\"])\n",
    "# df_marcas.show()\n",
    "\n",
    "# EXTRAEMOS LAS CATEGORIAS\n",
    "\n",
    "categorias_unicas = productos_cosmetsac.select(col(\"Categoría\")).dropDuplicates()\n",
    "diccionario_categorias = {\n",
    "    \"Categoria ID\":[i for i in range(1,categorias_unicas.count()+1)],\n",
    "    \"Categoría\": [i[0] for i in categorias_unicas.select(col(\"Categoría\")).collect()]\n",
    "}\n",
    "df_categorias = spark.createDataFrame(list(zip(*diccionario_categorias.values())),[\"Categoria ID\",\"Categoría\"])\n",
    "# df_categorias.show()\n",
    "\n",
    "productos_cosmetsac = productos_cosmetsac.join(df_marcas,\"Marca\")\n",
    "productos_cosmetsac = productos_cosmetsac.join(df_categorias,\"Categoría\")\n",
    "\n",
    "# Seleccionamos columnas necesarias.\n",
    "productos_cosmetsac = productos_cosmetsac.select(\n",
    "    col(\"Producto\"),col(\"Precio Compra\"),col(\"Stock\"),\n",
    "    col(\"Marca ID\"),col(\"Categoria ID\")\n",
    ")\n",
    "\n",
    "productos_cosmetsac.show()\n",
    "\n",
    "#### CARGAR\n",
    "\n",
    "# Funciones para cargar información ....\n",
    "\n"
   ]
  },
  {
   "cell_type": "code",
   "execution_count": 0,
   "metadata": {
    "application/vnd.databricks.v1+cell": {
     "cellMetadata": {},
     "inputWidgets": {},
     "nuid": "d5f4fd2d-4769-4df1-8f7c-859789021cbc",
     "showTitle": false,
     "tableResultSettingsMap": {},
     "title": ""
    }
   },
   "outputs": [],
   "source": []
  }
 ],
 "metadata": {
  "application/vnd.databricks.v1+notebook": {
   "computePreferences": null,
   "dashboards": [],
   "environmentMetadata": {
    "base_environment": "",
    "environment_version": "2"
   },
   "inputWidgetPreferences": null,
   "language": "python",
   "notebookMetadata": {
    "pythonIndentUnit": 4
   },
   "notebookName": "Proceso ETL Databricks",
   "widgets": {}
  },
  "language_info": {
   "name": "python"
  }
 },
 "nbformat": 4,
 "nbformat_minor": 0
}
